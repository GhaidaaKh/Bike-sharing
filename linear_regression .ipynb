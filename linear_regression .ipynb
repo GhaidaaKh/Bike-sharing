{
 "cells": [
  {
   "cell_type": "code",
   "execution_count": 1,
   "id": "16cfe2d4",
   "metadata": {},
   "outputs": [],
   "source": [
    "import plotly.figure_factory as ff\n",
    "import pandas as pd\n",
    "import numpy as np\n",
    "import statsmodels.api as sm\n",
    "import statsmodels.formula.api as smf\n",
    "import patsy\n",
    "from sklearn.model_selection import train_test_split\n",
    "import seaborn as sns\n",
    "import matplotlib.pyplot as plt\n",
    "from sklearn.linear_model import LinearRegression\n",
    "from sklearn.preprocessing import StandardScaler\n",
    "from sklearn.linear_model import RidgeCV\n",
    "from sklearn.model_selection import train_test_split, cross_val_score, KFold, GridSearchCV\n",
    "from sklearn.linear_model import LinearRegression, Lasso, Ridge\n",
    "from sklearn.metrics import r2_score, mean_squared_error, mean_absolute_error\n",
    "from sklearn.preprocessing import PolynomialFeatures\n",
    "import warnings\n",
    "%matplotlib inline"
   ]
  },
  {
   "cell_type": "code",
   "execution_count": 2,
   "id": "f3446891",
   "metadata": {},
   "outputs": [],
   "source": [
    "dataEDA=pd.read_csv(\"/Users/ghaidaa/Desktop/Bike-sharing/hour.csv\")\n",
    "\n"
   ]
  },
  {
   "cell_type": "code",
   "execution_count": 3,
   "id": "eb46c31e",
   "metadata": {},
   "outputs": [],
   "source": [
    "df_trainEx, df_test =train_test_split(dataEDA , test_size = 0.2 , random_state=0)"
   ]
  },
  {
   "cell_type": "code",
   "execution_count": 4,
   "id": "d2c90c78",
   "metadata": {},
   "outputs": [],
   "source": [
    "df_trainEx = dataEDA.rename(columns = {'instant':'rec_id', 'dteday':'datetime','weathersit':'weather', 'cnt':'total_count', 'dteday':'datetime','mnth':'month','temp':'temperature','holiday':'is_holiday', 'workingday':'is_workingday','hum':'humidity','yr':'year'})\n",
    "df_trainEx['season'] = df_trainEx['season'].map({1:'Winter', 2:'Spring', 3:'Summer', 4:'Fall'})\n",
    "df_trainEx['year'] = df_trainEx['year'].map({0:'2011', 1:'2012'})\n",
    "df_trainEx['is_holiday'] = df_trainEx['is_holiday'].map({0:'No', 1:'Yes'})\n",
    "df_trainEx['weekday'] = df_trainEx['weekday'].map({0:'Monday', 1:'Tuesday', 2:'Wednesday', 3:'Thursday', 4:'Friday', 5:'Saturday', 6:'Sunday'})\n",
    "df_trainEx['is_workingday'] = df_trainEx['is_workingday'].map({0:'No', 1:'Yes'})\n",
    "df_trainEx['weather'] = df_trainEx['weather'].map({1:'Clear', 2:'Cloudy', 3:'Rain', 4:'Storm'})\n",
    "\n"
   ]
  },
  {
   "cell_type": "code",
   "execution_count": 5,
   "id": "82dedb5e",
   "metadata": {},
   "outputs": [
    {
     "data": {
      "text/plain": [
       "Index(['rec_id', 'datetime', 'season', 'year', 'month', 'hr', 'is_holiday',\n",
       "       'weekday', 'is_workingday', 'weather', 'temperature', 'atemp',\n",
       "       'humidity', 'windspeed', 'casual', 'registered', 'total_count'],\n",
       "      dtype='object')"
      ]
     },
     "execution_count": 5,
     "metadata": {},
     "output_type": "execute_result"
    }
   ],
   "source": [
    "df_trainEx.columns"
   ]
  },
  {
   "cell_type": "code",
   "execution_count": 6,
   "id": "d4997e0c",
   "metadata": {},
   "outputs": [
    {
     "data": {
      "text/html": [
       "<div>\n",
       "<style scoped>\n",
       "    .dataframe tbody tr th:only-of-type {\n",
       "        vertical-align: middle;\n",
       "    }\n",
       "\n",
       "    .dataframe tbody tr th {\n",
       "        vertical-align: top;\n",
       "    }\n",
       "\n",
       "    .dataframe thead th {\n",
       "        text-align: right;\n",
       "    }\n",
       "</style>\n",
       "<table border=\"1\" class=\"dataframe\">\n",
       "  <thead>\n",
       "    <tr style=\"text-align: right;\">\n",
       "      <th></th>\n",
       "      <th>rec_id</th>\n",
       "      <th>datetime</th>\n",
       "      <th>season</th>\n",
       "      <th>year</th>\n",
       "      <th>month</th>\n",
       "      <th>hr</th>\n",
       "      <th>is_holiday</th>\n",
       "      <th>weekday</th>\n",
       "      <th>is_workingday</th>\n",
       "      <th>weather</th>\n",
       "      <th>temperature</th>\n",
       "      <th>atemp</th>\n",
       "      <th>humidity</th>\n",
       "      <th>windspeed</th>\n",
       "      <th>casual</th>\n",
       "      <th>registered</th>\n",
       "      <th>total_count</th>\n",
       "    </tr>\n",
       "  </thead>\n",
       "  <tbody>\n",
       "    <tr>\n",
       "      <th>0</th>\n",
       "      <td>1</td>\n",
       "      <td>2011-01-01</td>\n",
       "      <td>Winter</td>\n",
       "      <td>2011</td>\n",
       "      <td>1</td>\n",
       "      <td>0</td>\n",
       "      <td>No</td>\n",
       "      <td>Sunday</td>\n",
       "      <td>No</td>\n",
       "      <td>Clear</td>\n",
       "      <td>0.24</td>\n",
       "      <td>0.2879</td>\n",
       "      <td>0.81</td>\n",
       "      <td>0.0</td>\n",
       "      <td>3</td>\n",
       "      <td>13</td>\n",
       "      <td>16</td>\n",
       "    </tr>\n",
       "    <tr>\n",
       "      <th>1</th>\n",
       "      <td>2</td>\n",
       "      <td>2011-01-01</td>\n",
       "      <td>Winter</td>\n",
       "      <td>2011</td>\n",
       "      <td>1</td>\n",
       "      <td>1</td>\n",
       "      <td>No</td>\n",
       "      <td>Sunday</td>\n",
       "      <td>No</td>\n",
       "      <td>Clear</td>\n",
       "      <td>0.22</td>\n",
       "      <td>0.2727</td>\n",
       "      <td>0.80</td>\n",
       "      <td>0.0</td>\n",
       "      <td>8</td>\n",
       "      <td>32</td>\n",
       "      <td>40</td>\n",
       "    </tr>\n",
       "    <tr>\n",
       "      <th>2</th>\n",
       "      <td>3</td>\n",
       "      <td>2011-01-01</td>\n",
       "      <td>Winter</td>\n",
       "      <td>2011</td>\n",
       "      <td>1</td>\n",
       "      <td>2</td>\n",
       "      <td>No</td>\n",
       "      <td>Sunday</td>\n",
       "      <td>No</td>\n",
       "      <td>Clear</td>\n",
       "      <td>0.22</td>\n",
       "      <td>0.2727</td>\n",
       "      <td>0.80</td>\n",
       "      <td>0.0</td>\n",
       "      <td>5</td>\n",
       "      <td>27</td>\n",
       "      <td>32</td>\n",
       "    </tr>\n",
       "    <tr>\n",
       "      <th>3</th>\n",
       "      <td>4</td>\n",
       "      <td>2011-01-01</td>\n",
       "      <td>Winter</td>\n",
       "      <td>2011</td>\n",
       "      <td>1</td>\n",
       "      <td>3</td>\n",
       "      <td>No</td>\n",
       "      <td>Sunday</td>\n",
       "      <td>No</td>\n",
       "      <td>Clear</td>\n",
       "      <td>0.24</td>\n",
       "      <td>0.2879</td>\n",
       "      <td>0.75</td>\n",
       "      <td>0.0</td>\n",
       "      <td>3</td>\n",
       "      <td>10</td>\n",
       "      <td>13</td>\n",
       "    </tr>\n",
       "    <tr>\n",
       "      <th>4</th>\n",
       "      <td>5</td>\n",
       "      <td>2011-01-01</td>\n",
       "      <td>Winter</td>\n",
       "      <td>2011</td>\n",
       "      <td>1</td>\n",
       "      <td>4</td>\n",
       "      <td>No</td>\n",
       "      <td>Sunday</td>\n",
       "      <td>No</td>\n",
       "      <td>Clear</td>\n",
       "      <td>0.24</td>\n",
       "      <td>0.2879</td>\n",
       "      <td>0.75</td>\n",
       "      <td>0.0</td>\n",
       "      <td>0</td>\n",
       "      <td>1</td>\n",
       "      <td>1</td>\n",
       "    </tr>\n",
       "  </tbody>\n",
       "</table>\n",
       "</div>"
      ],
      "text/plain": [
       "   rec_id    datetime  season  year  month  hr is_holiday weekday  \\\n",
       "0       1  2011-01-01  Winter  2011      1   0         No  Sunday   \n",
       "1       2  2011-01-01  Winter  2011      1   1         No  Sunday   \n",
       "2       3  2011-01-01  Winter  2011      1   2         No  Sunday   \n",
       "3       4  2011-01-01  Winter  2011      1   3         No  Sunday   \n",
       "4       5  2011-01-01  Winter  2011      1   4         No  Sunday   \n",
       "\n",
       "  is_workingday weather  temperature   atemp  humidity  windspeed  casual  \\\n",
       "0            No   Clear         0.24  0.2879      0.81        0.0       3   \n",
       "1            No   Clear         0.22  0.2727      0.80        0.0       8   \n",
       "2            No   Clear         0.22  0.2727      0.80        0.0       5   \n",
       "3            No   Clear         0.24  0.2879      0.75        0.0       3   \n",
       "4            No   Clear         0.24  0.2879      0.75        0.0       0   \n",
       "\n",
       "   registered  total_count  \n",
       "0          13           16  \n",
       "1          32           40  \n",
       "2          27           32  \n",
       "3          10           13  \n",
       "4           1            1  "
      ]
     },
     "execution_count": 6,
     "metadata": {},
     "output_type": "execute_result"
    }
   ],
   "source": [
    "df_trainEx.head()"
   ]
  },
  {
   "cell_type": "code",
   "execution_count": 7,
   "id": "c265d2af",
   "metadata": {},
   "outputs": [
    {
     "data": {
      "text/plain": [
       "Index(['rec_id', 'datetime', 'season', 'year', 'month', 'hr', 'is_holiday',\n",
       "       'weekday', 'is_workingday', 'weather', 'temperature', 'atemp',\n",
       "       'humidity', 'windspeed', 'casual', 'registered', 'total_count'],\n",
       "      dtype='object')"
      ]
     },
     "execution_count": 7,
     "metadata": {},
     "output_type": "execute_result"
    }
   ],
   "source": [
    "df_trainEx.columns"
   ]
  },
  {
   "cell_type": "code",
   "execution_count": 8,
   "id": "9eee64e2",
   "metadata": {},
   "outputs": [
    {
     "data": {
      "text/html": [
       "<div>\n",
       "<style scoped>\n",
       "    .dataframe tbody tr th:only-of-type {\n",
       "        vertical-align: middle;\n",
       "    }\n",
       "\n",
       "    .dataframe tbody tr th {\n",
       "        vertical-align: top;\n",
       "    }\n",
       "\n",
       "    .dataframe thead th {\n",
       "        text-align: right;\n",
       "    }\n",
       "</style>\n",
       "<table border=\"1\" class=\"dataframe\">\n",
       "  <thead>\n",
       "    <tr style=\"text-align: right;\">\n",
       "      <th></th>\n",
       "      <th>rec_id</th>\n",
       "      <th>datetime</th>\n",
       "      <th>season</th>\n",
       "      <th>year</th>\n",
       "      <th>month</th>\n",
       "      <th>hr</th>\n",
       "      <th>is_holiday</th>\n",
       "      <th>weekday</th>\n",
       "      <th>is_workingday</th>\n",
       "      <th>weather</th>\n",
       "      <th>temperature</th>\n",
       "      <th>atemp</th>\n",
       "      <th>humidity</th>\n",
       "      <th>windspeed</th>\n",
       "      <th>casual</th>\n",
       "      <th>registered</th>\n",
       "      <th>total_count</th>\n",
       "    </tr>\n",
       "  </thead>\n",
       "  <tbody>\n",
       "    <tr>\n",
       "      <th>11582</th>\n",
       "      <td>11583</td>\n",
       "      <td>2012-05-02</td>\n",
       "      <td>Spring</td>\n",
       "      <td>2012</td>\n",
       "      <td>5</td>\n",
       "      <td>19</td>\n",
       "      <td>No</td>\n",
       "      <td>Thursday</td>\n",
       "      <td>Yes</td>\n",
       "      <td>Clear</td>\n",
       "      <td>0.54</td>\n",
       "      <td>0.5152</td>\n",
       "      <td>0.77</td>\n",
       "      <td>0.2537</td>\n",
       "      <td>43</td>\n",
       "      <td>461</td>\n",
       "      <td>504</td>\n",
       "    </tr>\n",
       "    <tr>\n",
       "      <th>8373</th>\n",
       "      <td>8374</td>\n",
       "      <td>2011-12-20</td>\n",
       "      <td>Fall</td>\n",
       "      <td>2011</td>\n",
       "      <td>12</td>\n",
       "      <td>13</td>\n",
       "      <td>No</td>\n",
       "      <td>Wednesday</td>\n",
       "      <td>Yes</td>\n",
       "      <td>Cloudy</td>\n",
       "      <td>0.44</td>\n",
       "      <td>0.4394</td>\n",
       "      <td>0.54</td>\n",
       "      <td>0.1343</td>\n",
       "      <td>18</td>\n",
       "      <td>163</td>\n",
       "      <td>181</td>\n",
       "    </tr>\n",
       "    <tr>\n",
       "      <th>13639</th>\n",
       "      <td>13640</td>\n",
       "      <td>2012-07-27</td>\n",
       "      <td>Summer</td>\n",
       "      <td>2012</td>\n",
       "      <td>7</td>\n",
       "      <td>12</td>\n",
       "      <td>No</td>\n",
       "      <td>Saturday</td>\n",
       "      <td>Yes</td>\n",
       "      <td>Clear</td>\n",
       "      <td>0.84</td>\n",
       "      <td>0.7879</td>\n",
       "      <td>0.49</td>\n",
       "      <td>0.3582</td>\n",
       "      <td>92</td>\n",
       "      <td>207</td>\n",
       "      <td>299</td>\n",
       "    </tr>\n",
       "    <tr>\n",
       "      <th>5514</th>\n",
       "      <td>5515</td>\n",
       "      <td>2011-08-22</td>\n",
       "      <td>Summer</td>\n",
       "      <td>2011</td>\n",
       "      <td>8</td>\n",
       "      <td>16</td>\n",
       "      <td>No</td>\n",
       "      <td>Tuesday</td>\n",
       "      <td>Yes</td>\n",
       "      <td>Clear</td>\n",
       "      <td>0.74</td>\n",
       "      <td>0.6515</td>\n",
       "      <td>0.30</td>\n",
       "      <td>0.3881</td>\n",
       "      <td>66</td>\n",
       "      <td>254</td>\n",
       "      <td>320</td>\n",
       "    </tr>\n",
       "    <tr>\n",
       "      <th>15081</th>\n",
       "      <td>15082</td>\n",
       "      <td>2012-09-25</td>\n",
       "      <td>Fall</td>\n",
       "      <td>2012</td>\n",
       "      <td>9</td>\n",
       "      <td>14</td>\n",
       "      <td>No</td>\n",
       "      <td>Wednesday</td>\n",
       "      <td>Yes</td>\n",
       "      <td>Clear</td>\n",
       "      <td>0.66</td>\n",
       "      <td>0.6212</td>\n",
       "      <td>0.39</td>\n",
       "      <td>0.3284</td>\n",
       "      <td>80</td>\n",
       "      <td>213</td>\n",
       "      <td>293</td>\n",
       "    </tr>\n",
       "  </tbody>\n",
       "</table>\n",
       "</div>"
      ],
      "text/plain": [
       "       rec_id    datetime  season  year  month  hr is_holiday    weekday  \\\n",
       "11582   11583  2012-05-02  Spring  2012      5  19         No   Thursday   \n",
       "8373     8374  2011-12-20    Fall  2011     12  13         No  Wednesday   \n",
       "13639   13640  2012-07-27  Summer  2012      7  12         No   Saturday   \n",
       "5514     5515  2011-08-22  Summer  2011      8  16         No    Tuesday   \n",
       "15081   15082  2012-09-25    Fall  2012      9  14         No  Wednesday   \n",
       "\n",
       "      is_workingday weather  temperature   atemp  humidity  windspeed  casual  \\\n",
       "11582           Yes   Clear         0.54  0.5152      0.77     0.2537      43   \n",
       "8373            Yes  Cloudy         0.44  0.4394      0.54     0.1343      18   \n",
       "13639           Yes   Clear         0.84  0.7879      0.49     0.3582      92   \n",
       "5514            Yes   Clear         0.74  0.6515      0.30     0.3881      66   \n",
       "15081           Yes   Clear         0.66  0.6212      0.39     0.3284      80   \n",
       "\n",
       "       registered  total_count  \n",
       "11582         461          504  \n",
       "8373          163          181  \n",
       "13639         207          299  \n",
       "5514          254          320  \n",
       "15081         213          293  "
      ]
     },
     "execution_count": 8,
     "metadata": {},
     "output_type": "execute_result"
    }
   ],
   "source": [
    "df_trainEx.sample(5)"
   ]
  },
  {
   "cell_type": "code",
   "execution_count": 9,
   "id": "6b581084",
   "metadata": {},
   "outputs": [
    {
     "name": "stdout",
     "output_type": "stream",
     "text": [
      "<class 'pandas.core.frame.DataFrame'>\n",
      "RangeIndex: 17379 entries, 0 to 17378\n",
      "Data columns (total 17 columns):\n",
      " #   Column         Non-Null Count  Dtype  \n",
      "---  ------         --------------  -----  \n",
      " 0   rec_id         17379 non-null  int64  \n",
      " 1   datetime       17379 non-null  object \n",
      " 2   season         17379 non-null  object \n",
      " 3   year           17379 non-null  object \n",
      " 4   month          17379 non-null  int64  \n",
      " 5   hr             17379 non-null  int64  \n",
      " 6   is_holiday     17379 non-null  object \n",
      " 7   weekday        17379 non-null  object \n",
      " 8   is_workingday  17379 non-null  object \n",
      " 9   weather        17379 non-null  object \n",
      " 10  temperature    17379 non-null  float64\n",
      " 11  atemp          17379 non-null  float64\n",
      " 12  humidity       17379 non-null  float64\n",
      " 13  windspeed      17379 non-null  float64\n",
      " 14  casual         17379 non-null  int64  \n",
      " 15  registered     17379 non-null  int64  \n",
      " 16  total_count    17379 non-null  int64  \n",
      "dtypes: float64(4), int64(6), object(7)\n",
      "memory usage: 2.3+ MB\n"
     ]
    }
   ],
   "source": [
    "df_trainEx.info()"
   ]
  },
  {
   "cell_type": "code",
   "execution_count": 10,
   "id": "5eb63724",
   "metadata": {},
   "outputs": [
    {
     "data": {
      "text/html": [
       "<div>\n",
       "<style scoped>\n",
       "    .dataframe tbody tr th:only-of-type {\n",
       "        vertical-align: middle;\n",
       "    }\n",
       "\n",
       "    .dataframe tbody tr th {\n",
       "        vertical-align: top;\n",
       "    }\n",
       "\n",
       "    .dataframe thead th {\n",
       "        text-align: right;\n",
       "    }\n",
       "</style>\n",
       "<table border=\"1\" class=\"dataframe\">\n",
       "  <thead>\n",
       "    <tr style=\"text-align: right;\">\n",
       "      <th></th>\n",
       "      <th>rec_id</th>\n",
       "      <th>month</th>\n",
       "      <th>hr</th>\n",
       "      <th>temperature</th>\n",
       "      <th>atemp</th>\n",
       "      <th>humidity</th>\n",
       "      <th>windspeed</th>\n",
       "      <th>casual</th>\n",
       "      <th>registered</th>\n",
       "      <th>total_count</th>\n",
       "    </tr>\n",
       "  </thead>\n",
       "  <tbody>\n",
       "    <tr>\n",
       "      <th>count</th>\n",
       "      <td>17379.0000</td>\n",
       "      <td>17379.000000</td>\n",
       "      <td>17379.000000</td>\n",
       "      <td>17379.000000</td>\n",
       "      <td>17379.000000</td>\n",
       "      <td>17379.000000</td>\n",
       "      <td>17379.000000</td>\n",
       "      <td>17379.000000</td>\n",
       "      <td>17379.000000</td>\n",
       "      <td>17379.000000</td>\n",
       "    </tr>\n",
       "    <tr>\n",
       "      <th>mean</th>\n",
       "      <td>8690.0000</td>\n",
       "      <td>6.537775</td>\n",
       "      <td>11.546752</td>\n",
       "      <td>0.496987</td>\n",
       "      <td>0.475775</td>\n",
       "      <td>0.627229</td>\n",
       "      <td>0.190098</td>\n",
       "      <td>35.676218</td>\n",
       "      <td>153.786869</td>\n",
       "      <td>189.463088</td>\n",
       "    </tr>\n",
       "    <tr>\n",
       "      <th>std</th>\n",
       "      <td>5017.0295</td>\n",
       "      <td>3.438776</td>\n",
       "      <td>6.914405</td>\n",
       "      <td>0.192556</td>\n",
       "      <td>0.171850</td>\n",
       "      <td>0.192930</td>\n",
       "      <td>0.122340</td>\n",
       "      <td>49.305030</td>\n",
       "      <td>151.357286</td>\n",
       "      <td>181.387599</td>\n",
       "    </tr>\n",
       "    <tr>\n",
       "      <th>min</th>\n",
       "      <td>1.0000</td>\n",
       "      <td>1.000000</td>\n",
       "      <td>0.000000</td>\n",
       "      <td>0.020000</td>\n",
       "      <td>0.000000</td>\n",
       "      <td>0.000000</td>\n",
       "      <td>0.000000</td>\n",
       "      <td>0.000000</td>\n",
       "      <td>0.000000</td>\n",
       "      <td>1.000000</td>\n",
       "    </tr>\n",
       "    <tr>\n",
       "      <th>25%</th>\n",
       "      <td>4345.5000</td>\n",
       "      <td>4.000000</td>\n",
       "      <td>6.000000</td>\n",
       "      <td>0.340000</td>\n",
       "      <td>0.333300</td>\n",
       "      <td>0.480000</td>\n",
       "      <td>0.104500</td>\n",
       "      <td>4.000000</td>\n",
       "      <td>34.000000</td>\n",
       "      <td>40.000000</td>\n",
       "    </tr>\n",
       "    <tr>\n",
       "      <th>50%</th>\n",
       "      <td>8690.0000</td>\n",
       "      <td>7.000000</td>\n",
       "      <td>12.000000</td>\n",
       "      <td>0.500000</td>\n",
       "      <td>0.484800</td>\n",
       "      <td>0.630000</td>\n",
       "      <td>0.194000</td>\n",
       "      <td>17.000000</td>\n",
       "      <td>115.000000</td>\n",
       "      <td>142.000000</td>\n",
       "    </tr>\n",
       "    <tr>\n",
       "      <th>75%</th>\n",
       "      <td>13034.5000</td>\n",
       "      <td>10.000000</td>\n",
       "      <td>18.000000</td>\n",
       "      <td>0.660000</td>\n",
       "      <td>0.621200</td>\n",
       "      <td>0.780000</td>\n",
       "      <td>0.253700</td>\n",
       "      <td>48.000000</td>\n",
       "      <td>220.000000</td>\n",
       "      <td>281.000000</td>\n",
       "    </tr>\n",
       "    <tr>\n",
       "      <th>max</th>\n",
       "      <td>17379.0000</td>\n",
       "      <td>12.000000</td>\n",
       "      <td>23.000000</td>\n",
       "      <td>1.000000</td>\n",
       "      <td>1.000000</td>\n",
       "      <td>1.000000</td>\n",
       "      <td>0.850700</td>\n",
       "      <td>367.000000</td>\n",
       "      <td>886.000000</td>\n",
       "      <td>977.000000</td>\n",
       "    </tr>\n",
       "  </tbody>\n",
       "</table>\n",
       "</div>"
      ],
      "text/plain": [
       "           rec_id         month            hr   temperature         atemp  \\\n",
       "count  17379.0000  17379.000000  17379.000000  17379.000000  17379.000000   \n",
       "mean    8690.0000      6.537775     11.546752      0.496987      0.475775   \n",
       "std     5017.0295      3.438776      6.914405      0.192556      0.171850   \n",
       "min        1.0000      1.000000      0.000000      0.020000      0.000000   \n",
       "25%     4345.5000      4.000000      6.000000      0.340000      0.333300   \n",
       "50%     8690.0000      7.000000     12.000000      0.500000      0.484800   \n",
       "75%    13034.5000     10.000000     18.000000      0.660000      0.621200   \n",
       "max    17379.0000     12.000000     23.000000      1.000000      1.000000   \n",
       "\n",
       "           humidity     windspeed        casual    registered   total_count  \n",
       "count  17379.000000  17379.000000  17379.000000  17379.000000  17379.000000  \n",
       "mean       0.627229      0.190098     35.676218    153.786869    189.463088  \n",
       "std        0.192930      0.122340     49.305030    151.357286    181.387599  \n",
       "min        0.000000      0.000000      0.000000      0.000000      1.000000  \n",
       "25%        0.480000      0.104500      4.000000     34.000000     40.000000  \n",
       "50%        0.630000      0.194000     17.000000    115.000000    142.000000  \n",
       "75%        0.780000      0.253700     48.000000    220.000000    281.000000  \n",
       "max        1.000000      0.850700    367.000000    886.000000    977.000000  "
      ]
     },
     "execution_count": 10,
     "metadata": {},
     "output_type": "execute_result"
    }
   ],
   "source": [
    "df_trainEx.describe()"
   ]
  },
  {
   "cell_type": "code",
   "execution_count": 11,
   "id": "abdcc5b0",
   "metadata": {},
   "outputs": [
    {
     "name": "stdout",
     "output_type": "stream",
     "text": [
      "<class 'pandas.core.frame.DataFrame'>\n",
      "RangeIndex: 17379 entries, 0 to 17378\n",
      "Data columns (total 17 columns):\n",
      " #   Column         Non-Null Count  Dtype  \n",
      "---  ------         --------------  -----  \n",
      " 0   rec_id         17379 non-null  int64  \n",
      " 1   datetime       17379 non-null  object \n",
      " 2   season         17379 non-null  object \n",
      " 3   year           17379 non-null  object \n",
      " 4   month          17379 non-null  int64  \n",
      " 5   hr             17379 non-null  int64  \n",
      " 6   is_holiday     17379 non-null  object \n",
      " 7   weekday        17379 non-null  object \n",
      " 8   is_workingday  17379 non-null  object \n",
      " 9   weather        17379 non-null  object \n",
      " 10  temperature    17379 non-null  float64\n",
      " 11  atemp          17379 non-null  float64\n",
      " 12  humidity       17379 non-null  float64\n",
      " 13  windspeed      17379 non-null  float64\n",
      " 14  casual         17379 non-null  int64  \n",
      " 15  registered     17379 non-null  int64  \n",
      " 16  total_count    17379 non-null  int64  \n",
      "dtypes: float64(4), int64(6), object(7)\n",
      "memory usage: 2.3+ MB\n"
     ]
    }
   ],
   "source": [
    "df_trainEx.info()"
   ]
  },
  {
   "cell_type": "code",
   "execution_count": 12,
   "id": "6277db74",
   "metadata": {},
   "outputs": [
    {
     "data": {
      "text/html": [
       "<div>\n",
       "<style scoped>\n",
       "    .dataframe tbody tr th:only-of-type {\n",
       "        vertical-align: middle;\n",
       "    }\n",
       "\n",
       "    .dataframe tbody tr th {\n",
       "        vertical-align: top;\n",
       "    }\n",
       "\n",
       "    .dataframe thead th {\n",
       "        text-align: right;\n",
       "    }\n",
       "</style>\n",
       "<table border=\"1\" class=\"dataframe\">\n",
       "  <thead>\n",
       "    <tr style=\"text-align: right;\">\n",
       "      <th></th>\n",
       "      <th>rec_id</th>\n",
       "      <th>month</th>\n",
       "      <th>hr</th>\n",
       "      <th>temperature</th>\n",
       "      <th>atemp</th>\n",
       "      <th>humidity</th>\n",
       "      <th>windspeed</th>\n",
       "      <th>casual</th>\n",
       "      <th>registered</th>\n",
       "      <th>total_count</th>\n",
       "    </tr>\n",
       "  </thead>\n",
       "  <tbody>\n",
       "    <tr>\n",
       "      <th>count</th>\n",
       "      <td>17379.0000</td>\n",
       "      <td>17379.000000</td>\n",
       "      <td>17379.000000</td>\n",
       "      <td>17379.000000</td>\n",
       "      <td>17379.000000</td>\n",
       "      <td>17379.000000</td>\n",
       "      <td>17379.000000</td>\n",
       "      <td>17379.000000</td>\n",
       "      <td>17379.000000</td>\n",
       "      <td>17379.000000</td>\n",
       "    </tr>\n",
       "    <tr>\n",
       "      <th>mean</th>\n",
       "      <td>8690.0000</td>\n",
       "      <td>6.537775</td>\n",
       "      <td>11.546752</td>\n",
       "      <td>0.496987</td>\n",
       "      <td>0.475775</td>\n",
       "      <td>0.627229</td>\n",
       "      <td>0.190098</td>\n",
       "      <td>35.676218</td>\n",
       "      <td>153.786869</td>\n",
       "      <td>189.463088</td>\n",
       "    </tr>\n",
       "    <tr>\n",
       "      <th>std</th>\n",
       "      <td>5017.0295</td>\n",
       "      <td>3.438776</td>\n",
       "      <td>6.914405</td>\n",
       "      <td>0.192556</td>\n",
       "      <td>0.171850</td>\n",
       "      <td>0.192930</td>\n",
       "      <td>0.122340</td>\n",
       "      <td>49.305030</td>\n",
       "      <td>151.357286</td>\n",
       "      <td>181.387599</td>\n",
       "    </tr>\n",
       "    <tr>\n",
       "      <th>min</th>\n",
       "      <td>1.0000</td>\n",
       "      <td>1.000000</td>\n",
       "      <td>0.000000</td>\n",
       "      <td>0.020000</td>\n",
       "      <td>0.000000</td>\n",
       "      <td>0.000000</td>\n",
       "      <td>0.000000</td>\n",
       "      <td>0.000000</td>\n",
       "      <td>0.000000</td>\n",
       "      <td>1.000000</td>\n",
       "    </tr>\n",
       "    <tr>\n",
       "      <th>25%</th>\n",
       "      <td>4345.5000</td>\n",
       "      <td>4.000000</td>\n",
       "      <td>6.000000</td>\n",
       "      <td>0.340000</td>\n",
       "      <td>0.333300</td>\n",
       "      <td>0.480000</td>\n",
       "      <td>0.104500</td>\n",
       "      <td>4.000000</td>\n",
       "      <td>34.000000</td>\n",
       "      <td>40.000000</td>\n",
       "    </tr>\n",
       "    <tr>\n",
       "      <th>50%</th>\n",
       "      <td>8690.0000</td>\n",
       "      <td>7.000000</td>\n",
       "      <td>12.000000</td>\n",
       "      <td>0.500000</td>\n",
       "      <td>0.484800</td>\n",
       "      <td>0.630000</td>\n",
       "      <td>0.194000</td>\n",
       "      <td>17.000000</td>\n",
       "      <td>115.000000</td>\n",
       "      <td>142.000000</td>\n",
       "    </tr>\n",
       "    <tr>\n",
       "      <th>75%</th>\n",
       "      <td>13034.5000</td>\n",
       "      <td>10.000000</td>\n",
       "      <td>18.000000</td>\n",
       "      <td>0.660000</td>\n",
       "      <td>0.621200</td>\n",
       "      <td>0.780000</td>\n",
       "      <td>0.253700</td>\n",
       "      <td>48.000000</td>\n",
       "      <td>220.000000</td>\n",
       "      <td>281.000000</td>\n",
       "    </tr>\n",
       "    <tr>\n",
       "      <th>max</th>\n",
       "      <td>17379.0000</td>\n",
       "      <td>12.000000</td>\n",
       "      <td>23.000000</td>\n",
       "      <td>1.000000</td>\n",
       "      <td>1.000000</td>\n",
       "      <td>1.000000</td>\n",
       "      <td>0.850700</td>\n",
       "      <td>367.000000</td>\n",
       "      <td>886.000000</td>\n",
       "      <td>977.000000</td>\n",
       "    </tr>\n",
       "  </tbody>\n",
       "</table>\n",
       "</div>"
      ],
      "text/plain": [
       "           rec_id         month            hr   temperature         atemp  \\\n",
       "count  17379.0000  17379.000000  17379.000000  17379.000000  17379.000000   \n",
       "mean    8690.0000      6.537775     11.546752      0.496987      0.475775   \n",
       "std     5017.0295      3.438776      6.914405      0.192556      0.171850   \n",
       "min        1.0000      1.000000      0.000000      0.020000      0.000000   \n",
       "25%     4345.5000      4.000000      6.000000      0.340000      0.333300   \n",
       "50%     8690.0000      7.000000     12.000000      0.500000      0.484800   \n",
       "75%    13034.5000     10.000000     18.000000      0.660000      0.621200   \n",
       "max    17379.0000     12.000000     23.000000      1.000000      1.000000   \n",
       "\n",
       "           humidity     windspeed        casual    registered   total_count  \n",
       "count  17379.000000  17379.000000  17379.000000  17379.000000  17379.000000  \n",
       "mean       0.627229      0.190098     35.676218    153.786869    189.463088  \n",
       "std        0.192930      0.122340     49.305030    151.357286    181.387599  \n",
       "min        0.000000      0.000000      0.000000      0.000000      1.000000  \n",
       "25%        0.480000      0.104500      4.000000     34.000000     40.000000  \n",
       "50%        0.630000      0.194000     17.000000    115.000000    142.000000  \n",
       "75%        0.780000      0.253700     48.000000    220.000000    281.000000  \n",
       "max        1.000000      0.850700    367.000000    886.000000    977.000000  "
      ]
     },
     "execution_count": 12,
     "metadata": {},
     "output_type": "execute_result"
    }
   ],
   "source": [
    "df_trainEx.describe()"
   ]
  },
  {
   "cell_type": "code",
   "execution_count": 13,
   "id": "f85b6d2c",
   "metadata": {},
   "outputs": [
    {
     "data": {
      "text/plain": [
       "array(['2011-01-01', '2011-01-02', '2011-01-03', '2011-01-04',\n",
       "       '2011-01-05', '2011-01-06', '2011-01-07', '2011-01-08',\n",
       "       '2011-01-09', '2011-01-10', '2011-01-11', '2011-01-12',\n",
       "       '2011-01-13', '2011-01-14', '2011-01-15', '2011-01-16',\n",
       "       '2011-01-17', '2011-01-18', '2011-01-19', '2011-01-20',\n",
       "       '2011-01-21', '2011-01-22', '2011-01-23', '2011-01-24',\n",
       "       '2011-01-25', '2011-01-26', '2011-01-27', '2011-01-28',\n",
       "       '2011-01-29', '2011-01-30', '2011-01-31', '2011-02-01',\n",
       "       '2011-02-02', '2011-02-03', '2011-02-04', '2011-02-05',\n",
       "       '2011-02-06', '2011-02-07', '2011-02-08', '2011-02-09',\n",
       "       '2011-02-10', '2011-02-11', '2011-02-12', '2011-02-13',\n",
       "       '2011-02-14', '2011-02-15', '2011-02-16', '2011-02-17',\n",
       "       '2011-02-18', '2011-02-19', '2011-02-20', '2011-02-21',\n",
       "       '2011-02-22', '2011-02-23', '2011-02-24', '2011-02-25',\n",
       "       '2011-02-26', '2011-02-27', '2011-02-28', '2011-03-01',\n",
       "       '2011-03-02', '2011-03-03', '2011-03-04', '2011-03-05',\n",
       "       '2011-03-06', '2011-03-07', '2011-03-08', '2011-03-09',\n",
       "       '2011-03-10', '2011-03-11', '2011-03-12', '2011-03-13',\n",
       "       '2011-03-14', '2011-03-15', '2011-03-16', '2011-03-17',\n",
       "       '2011-03-18', '2011-03-19', '2011-03-20', '2011-03-21',\n",
       "       '2011-03-22', '2011-03-23', '2011-03-24', '2011-03-25',\n",
       "       '2011-03-26', '2011-03-27', '2011-03-28', '2011-03-29',\n",
       "       '2011-03-30', '2011-03-31', '2011-04-01', '2011-04-02',\n",
       "       '2011-04-03', '2011-04-04', '2011-04-05', '2011-04-06',\n",
       "       '2011-04-07', '2011-04-08', '2011-04-09', '2011-04-10',\n",
       "       '2011-04-11', '2011-04-12', '2011-04-13', '2011-04-14',\n",
       "       '2011-04-15', '2011-04-16', '2011-04-17', '2011-04-18',\n",
       "       '2011-04-19', '2011-04-20', '2011-04-21', '2011-04-22',\n",
       "       '2011-04-23', '2011-04-24', '2011-04-25', '2011-04-26',\n",
       "       '2011-04-27', '2011-04-28', '2011-04-29', '2011-04-30',\n",
       "       '2011-05-01', '2011-05-02', '2011-05-03', '2011-05-04',\n",
       "       '2011-05-05', '2011-05-06', '2011-05-07', '2011-05-08',\n",
       "       '2011-05-09', '2011-05-10', '2011-05-11', '2011-05-12',\n",
       "       '2011-05-13', '2011-05-14', '2011-05-15', '2011-05-16',\n",
       "       '2011-05-17', '2011-05-18', '2011-05-19', '2011-05-20',\n",
       "       '2011-05-21', '2011-05-22', '2011-05-23', '2011-05-24',\n",
       "       '2011-05-25', '2011-05-26', '2011-05-27', '2011-05-28',\n",
       "       '2011-05-29', '2011-05-30', '2011-05-31', '2011-06-01',\n",
       "       '2011-06-02', '2011-06-03', '2011-06-04', '2011-06-05',\n",
       "       '2011-06-06', '2011-06-07', '2011-06-08', '2011-06-09',\n",
       "       '2011-06-10', '2011-06-11', '2011-06-12', '2011-06-13',\n",
       "       '2011-06-14', '2011-06-15', '2011-06-16', '2011-06-17',\n",
       "       '2011-06-18', '2011-06-19', '2011-06-20', '2011-06-21',\n",
       "       '2011-06-22', '2011-06-23', '2011-06-24', '2011-06-25',\n",
       "       '2011-06-26', '2011-06-27', '2011-06-28', '2011-06-29',\n",
       "       '2011-06-30', '2011-07-01', '2011-07-02', '2011-07-03',\n",
       "       '2011-07-04', '2011-07-05', '2011-07-06', '2011-07-07',\n",
       "       '2011-07-08', '2011-07-09', '2011-07-10', '2011-07-11',\n",
       "       '2011-07-12', '2011-07-13', '2011-07-14', '2011-07-15',\n",
       "       '2011-07-16', '2011-07-17', '2011-07-18', '2011-07-19',\n",
       "       '2011-07-20', '2011-07-21', '2011-07-22', '2011-07-23',\n",
       "       '2011-07-24', '2011-07-25', '2011-07-26', '2011-07-27',\n",
       "       '2011-07-28', '2011-07-29', '2011-07-30', '2011-07-31',\n",
       "       '2011-08-01', '2011-08-02', '2011-08-03', '2011-08-04',\n",
       "       '2011-08-05', '2011-08-06', '2011-08-07', '2011-08-08',\n",
       "       '2011-08-09', '2011-08-10', '2011-08-11', '2011-08-12',\n",
       "       '2011-08-13', '2011-08-14', '2011-08-15', '2011-08-16',\n",
       "       '2011-08-17', '2011-08-18', '2011-08-19', '2011-08-20',\n",
       "       '2011-08-21', '2011-08-22', '2011-08-23', '2011-08-24',\n",
       "       '2011-08-25', '2011-08-26', '2011-08-27', '2011-08-28',\n",
       "       '2011-08-29', '2011-08-30', '2011-08-31', '2011-09-01',\n",
       "       '2011-09-02', '2011-09-03', '2011-09-04', '2011-09-05',\n",
       "       '2011-09-06', '2011-09-07', '2011-09-08', '2011-09-09',\n",
       "       '2011-09-10', '2011-09-11', '2011-09-12', '2011-09-13',\n",
       "       '2011-09-14', '2011-09-15', '2011-09-16', '2011-09-17',\n",
       "       '2011-09-18', '2011-09-19', '2011-09-20', '2011-09-21',\n",
       "       '2011-09-22', '2011-09-23', '2011-09-24', '2011-09-25',\n",
       "       '2011-09-26', '2011-09-27', '2011-09-28', '2011-09-29',\n",
       "       '2011-09-30', '2011-10-01', '2011-10-02', '2011-10-03',\n",
       "       '2011-10-04', '2011-10-05', '2011-10-06', '2011-10-07',\n",
       "       '2011-10-08', '2011-10-09', '2011-10-10', '2011-10-11',\n",
       "       '2011-10-12', '2011-10-13', '2011-10-14', '2011-10-15',\n",
       "       '2011-10-16', '2011-10-17', '2011-10-18', '2011-10-19',\n",
       "       '2011-10-20', '2011-10-21', '2011-10-22', '2011-10-23',\n",
       "       '2011-10-24', '2011-10-25', '2011-10-26', '2011-10-27',\n",
       "       '2011-10-28', '2011-10-29', '2011-10-30', '2011-10-31',\n",
       "       '2011-11-01', '2011-11-02', '2011-11-03', '2011-11-04',\n",
       "       '2011-11-05', '2011-11-06', '2011-11-07', '2011-11-08',\n",
       "       '2011-11-09', '2011-11-10', '2011-11-11', '2011-11-12',\n",
       "       '2011-11-13', '2011-11-14', '2011-11-15', '2011-11-16',\n",
       "       '2011-11-17', '2011-11-18', '2011-11-19', '2011-11-20',\n",
       "       '2011-11-21', '2011-11-22', '2011-11-23', '2011-11-24',\n",
       "       '2011-11-25', '2011-11-26', '2011-11-27', '2011-11-28',\n",
       "       '2011-11-29', '2011-11-30', '2011-12-01', '2011-12-02',\n",
       "       '2011-12-03', '2011-12-04', '2011-12-05', '2011-12-06',\n",
       "       '2011-12-07', '2011-12-08', '2011-12-09', '2011-12-10',\n",
       "       '2011-12-11', '2011-12-12', '2011-12-13', '2011-12-14',\n",
       "       '2011-12-15', '2011-12-16', '2011-12-17', '2011-12-18',\n",
       "       '2011-12-19', '2011-12-20', '2011-12-21', '2011-12-22',\n",
       "       '2011-12-23', '2011-12-24', '2011-12-25', '2011-12-26',\n",
       "       '2011-12-27', '2011-12-28', '2011-12-29', '2011-12-30',\n",
       "       '2011-12-31', '2012-01-01', '2012-01-02', '2012-01-03',\n",
       "       '2012-01-04', '2012-01-05', '2012-01-06', '2012-01-07',\n",
       "       '2012-01-08', '2012-01-09', '2012-01-10', '2012-01-11',\n",
       "       '2012-01-12', '2012-01-13', '2012-01-14', '2012-01-15',\n",
       "       '2012-01-16', '2012-01-17', '2012-01-18', '2012-01-19',\n",
       "       '2012-01-20', '2012-01-21', '2012-01-22', '2012-01-23',\n",
       "       '2012-01-24', '2012-01-25', '2012-01-26', '2012-01-27',\n",
       "       '2012-01-28', '2012-01-29', '2012-01-30', '2012-01-31',\n",
       "       '2012-02-01', '2012-02-02', '2012-02-03', '2012-02-04',\n",
       "       '2012-02-05', '2012-02-06', '2012-02-07', '2012-02-08',\n",
       "       '2012-02-09', '2012-02-10', '2012-02-11', '2012-02-12',\n",
       "       '2012-02-13', '2012-02-14', '2012-02-15', '2012-02-16',\n",
       "       '2012-02-17', '2012-02-18', '2012-02-19', '2012-02-20',\n",
       "       '2012-02-21', '2012-02-22', '2012-02-23', '2012-02-24',\n",
       "       '2012-02-25', '2012-02-26', '2012-02-27', '2012-02-28',\n",
       "       '2012-02-29', '2012-03-01', '2012-03-02', '2012-03-03',\n",
       "       '2012-03-04', '2012-03-05', '2012-03-06', '2012-03-07',\n",
       "       '2012-03-08', '2012-03-09', '2012-03-10', '2012-03-11',\n",
       "       '2012-03-12', '2012-03-13', '2012-03-14', '2012-03-15',\n",
       "       '2012-03-16', '2012-03-17', '2012-03-18', '2012-03-19',\n",
       "       '2012-03-20', '2012-03-21', '2012-03-22', '2012-03-23',\n",
       "       '2012-03-24', '2012-03-25', '2012-03-26', '2012-03-27',\n",
       "       '2012-03-28', '2012-03-29', '2012-03-30', '2012-03-31',\n",
       "       '2012-04-01', '2012-04-02', '2012-04-03', '2012-04-04',\n",
       "       '2012-04-05', '2012-04-06', '2012-04-07', '2012-04-08',\n",
       "       '2012-04-09', '2012-04-10', '2012-04-11', '2012-04-12',\n",
       "       '2012-04-13', '2012-04-14', '2012-04-15', '2012-04-16',\n",
       "       '2012-04-17', '2012-04-18', '2012-04-19', '2012-04-20',\n",
       "       '2012-04-21', '2012-04-22', '2012-04-23', '2012-04-24',\n",
       "       '2012-04-25', '2012-04-26', '2012-04-27', '2012-04-28',\n",
       "       '2012-04-29', '2012-04-30', '2012-05-01', '2012-05-02',\n",
       "       '2012-05-03', '2012-05-04', '2012-05-05', '2012-05-06',\n",
       "       '2012-05-07', '2012-05-08', '2012-05-09', '2012-05-10',\n",
       "       '2012-05-11', '2012-05-12', '2012-05-13', '2012-05-14',\n",
       "       '2012-05-15', '2012-05-16', '2012-05-17', '2012-05-18',\n",
       "       '2012-05-19', '2012-05-20', '2012-05-21', '2012-05-22',\n",
       "       '2012-05-23', '2012-05-24', '2012-05-25', '2012-05-26',\n",
       "       '2012-05-27', '2012-05-28', '2012-05-29', '2012-05-30',\n",
       "       '2012-05-31', '2012-06-01', '2012-06-02', '2012-06-03',\n",
       "       '2012-06-04', '2012-06-05', '2012-06-06', '2012-06-07',\n",
       "       '2012-06-08', '2012-06-09', '2012-06-10', '2012-06-11',\n",
       "       '2012-06-12', '2012-06-13', '2012-06-14', '2012-06-15',\n",
       "       '2012-06-16', '2012-06-17', '2012-06-18', '2012-06-19',\n",
       "       '2012-06-20', '2012-06-21', '2012-06-22', '2012-06-23',\n",
       "       '2012-06-24', '2012-06-25', '2012-06-26', '2012-06-27',\n",
       "       '2012-06-28', '2012-06-29', '2012-06-30', '2012-07-01',\n",
       "       '2012-07-02', '2012-07-03', '2012-07-04', '2012-07-05',\n",
       "       '2012-07-06', '2012-07-07', '2012-07-08', '2012-07-09',\n",
       "       '2012-07-10', '2012-07-11', '2012-07-12', '2012-07-13',\n",
       "       '2012-07-14', '2012-07-15', '2012-07-16', '2012-07-17',\n",
       "       '2012-07-18', '2012-07-19', '2012-07-20', '2012-07-21',\n",
       "       '2012-07-22', '2012-07-23', '2012-07-24', '2012-07-25',\n",
       "       '2012-07-26', '2012-07-27', '2012-07-28', '2012-07-29',\n",
       "       '2012-07-30', '2012-07-31', '2012-08-01', '2012-08-02',\n",
       "       '2012-08-03', '2012-08-04', '2012-08-05', '2012-08-06',\n",
       "       '2012-08-07', '2012-08-08', '2012-08-09', '2012-08-10',\n",
       "       '2012-08-11', '2012-08-12', '2012-08-13', '2012-08-14',\n",
       "       '2012-08-15', '2012-08-16', '2012-08-17', '2012-08-18',\n",
       "       '2012-08-19', '2012-08-20', '2012-08-21', '2012-08-22',\n",
       "       '2012-08-23', '2012-08-24', '2012-08-25', '2012-08-26',\n",
       "       '2012-08-27', '2012-08-28', '2012-08-29', '2012-08-30',\n",
       "       '2012-08-31', '2012-09-01', '2012-09-02', '2012-09-03',\n",
       "       '2012-09-04', '2012-09-05', '2012-09-06', '2012-09-07',\n",
       "       '2012-09-08', '2012-09-09', '2012-09-10', '2012-09-11',\n",
       "       '2012-09-12', '2012-09-13', '2012-09-14', '2012-09-15',\n",
       "       '2012-09-16', '2012-09-17', '2012-09-18', '2012-09-19',\n",
       "       '2012-09-20', '2012-09-21', '2012-09-22', '2012-09-23',\n",
       "       '2012-09-24', '2012-09-25', '2012-09-26', '2012-09-27',\n",
       "       '2012-09-28', '2012-09-29', '2012-09-30', '2012-10-01',\n",
       "       '2012-10-02', '2012-10-03', '2012-10-04', '2012-10-05',\n",
       "       '2012-10-06', '2012-10-07', '2012-10-08', '2012-10-09',\n",
       "       '2012-10-10', '2012-10-11', '2012-10-12', '2012-10-13',\n",
       "       '2012-10-14', '2012-10-15', '2012-10-16', '2012-10-17',\n",
       "       '2012-10-18', '2012-10-19', '2012-10-20', '2012-10-21',\n",
       "       '2012-10-22', '2012-10-23', '2012-10-24', '2012-10-25',\n",
       "       '2012-10-26', '2012-10-27', '2012-10-28', '2012-10-29',\n",
       "       '2012-10-30', '2012-10-31', '2012-11-01', '2012-11-02',\n",
       "       '2012-11-03', '2012-11-04', '2012-11-05', '2012-11-06',\n",
       "       '2012-11-07', '2012-11-08', '2012-11-09', '2012-11-10',\n",
       "       '2012-11-11', '2012-11-12', '2012-11-13', '2012-11-14',\n",
       "       '2012-11-15', '2012-11-16', '2012-11-17', '2012-11-18',\n",
       "       '2012-11-19', '2012-11-20', '2012-11-21', '2012-11-22',\n",
       "       '2012-11-23', '2012-11-24', '2012-11-25', '2012-11-26',\n",
       "       '2012-11-27', '2012-11-28', '2012-11-29', '2012-11-30',\n",
       "       '2012-12-01', '2012-12-02', '2012-12-03', '2012-12-04',\n",
       "       '2012-12-05', '2012-12-06', '2012-12-07', '2012-12-08',\n",
       "       '2012-12-09', '2012-12-10', '2012-12-11', '2012-12-12',\n",
       "       '2012-12-13', '2012-12-14', '2012-12-15', '2012-12-16',\n",
       "       '2012-12-17', '2012-12-18', '2012-12-19', '2012-12-20',\n",
       "       '2012-12-21', '2012-12-22', '2012-12-23', '2012-12-24',\n",
       "       '2012-12-25', '2012-12-26', '2012-12-27', '2012-12-28',\n",
       "       '2012-12-29', '2012-12-30', '2012-12-31'], dtype=object)"
      ]
     },
     "execution_count": 13,
     "metadata": {},
     "output_type": "execute_result"
    }
   ],
   "source": [
    "df_trainEx.datetime.unique()"
   ]
  },
  {
   "cell_type": "code",
   "execution_count": 14,
   "id": "15e1242b",
   "metadata": {},
   "outputs": [
    {
     "data": {
      "text/plain": [
       "array(['Winter', 'Spring', 'Summer', 'Fall'], dtype=object)"
      ]
     },
     "execution_count": 14,
     "metadata": {},
     "output_type": "execute_result"
    }
   ],
   "source": [
    "df_trainEx.season.unique()"
   ]
  },
  {
   "cell_type": "code",
   "execution_count": 15,
   "id": "08e25d97",
   "metadata": {},
   "outputs": [
    {
     "data": {
      "text/plain": [
       "Summer    4496\n",
       "Spring    4409\n",
       "Winter    4242\n",
       "Fall      4232\n",
       "Name: season, dtype: int64"
      ]
     },
     "execution_count": 15,
     "metadata": {},
     "output_type": "execute_result"
    }
   ],
   "source": [
    "df_trainEx.season.value_counts()"
   ]
  },
  {
   "cell_type": "code",
   "execution_count": 16,
   "id": "0acc77e4",
   "metadata": {},
   "outputs": [
    {
     "data": {
      "text/plain": [
       "array(['2011', '2012'], dtype=object)"
      ]
     },
     "execution_count": 16,
     "metadata": {},
     "output_type": "execute_result"
    }
   ],
   "source": [
    "df_trainEx.year.unique()"
   ]
  },
  {
   "cell_type": "code",
   "execution_count": 17,
   "id": "6a8d1a33",
   "metadata": {},
   "outputs": [
    {
     "data": {
      "text/plain": [
       "2012    8734\n",
       "2011    8645\n",
       "Name: year, dtype: int64"
      ]
     },
     "execution_count": 17,
     "metadata": {},
     "output_type": "execute_result"
    }
   ],
   "source": [
    "df_trainEx.year.value_counts()"
   ]
  },
  {
   "cell_type": "code",
   "execution_count": 18,
   "id": "14b6dba8",
   "metadata": {},
   "outputs": [
    {
     "data": {
      "text/plain": [
       "array(['Sunday', 'Monday', 'Tuesday', 'Wednesday', 'Thursday', 'Friday',\n",
       "       'Saturday'], dtype=object)"
      ]
     },
     "execution_count": 18,
     "metadata": {},
     "output_type": "execute_result"
    }
   ],
   "source": [
    "df_trainEx.weekday.unique()"
   ]
  },
  {
   "cell_type": "code",
   "execution_count": 19,
   "id": "32a77a5f",
   "metadata": {},
   "outputs": [
    {
     "data": {
      "text/plain": [
       "Sunday       2512\n",
       "Monday       2502\n",
       "Saturday     2487\n",
       "Tuesday      2479\n",
       "Thursday     2475\n",
       "Friday       2471\n",
       "Wednesday    2453\n",
       "Name: weekday, dtype: int64"
      ]
     },
     "execution_count": 19,
     "metadata": {},
     "output_type": "execute_result"
    }
   ],
   "source": [
    "df_trainEx.weekday.value_counts()"
   ]
  },
  {
   "cell_type": "code",
   "execution_count": 20,
   "id": "3ff774d7",
   "metadata": {},
   "outputs": [
    {
     "data": {
      "text/plain": [
       "array(['No', 'Yes'], dtype=object)"
      ]
     },
     "execution_count": 20,
     "metadata": {},
     "output_type": "execute_result"
    }
   ],
   "source": [
    "df_trainEx.is_holiday.unique()"
   ]
  },
  {
   "cell_type": "code",
   "execution_count": 21,
   "id": "a9539d60",
   "metadata": {},
   "outputs": [
    {
     "data": {
      "text/plain": [
       "No     16879\n",
       "Yes      500\n",
       "Name: is_holiday, dtype: int64"
      ]
     },
     "execution_count": 21,
     "metadata": {},
     "output_type": "execute_result"
    }
   ],
   "source": [
    "df_trainEx.is_holiday.value_counts()"
   ]
  },
  {
   "cell_type": "code",
   "execution_count": 22,
   "id": "56ebf182",
   "metadata": {},
   "outputs": [
    {
     "data": {
      "text/plain": [
       "array(['Sunday', 'Monday', 'Tuesday', 'Wednesday', 'Thursday', 'Friday',\n",
       "       'Saturday'], dtype=object)"
      ]
     },
     "execution_count": 22,
     "metadata": {},
     "output_type": "execute_result"
    }
   ],
   "source": [
    "df_trainEx.weekday.unique()"
   ]
  },
  {
   "cell_type": "code",
   "execution_count": 23,
   "id": "2666cff3",
   "metadata": {},
   "outputs": [
    {
     "data": {
      "text/plain": [
       "array([ 1,  2,  3,  4,  5,  6,  7,  8,  9, 10, 11, 12])"
      ]
     },
     "execution_count": 23,
     "metadata": {},
     "output_type": "execute_result"
    }
   ],
   "source": [
    "df_trainEx.month.unique()"
   ]
  },
  {
   "cell_type": "code",
   "execution_count": 24,
   "id": "4b12b0eb",
   "metadata": {},
   "outputs": [],
   "source": [
    "#df_train, df_test =train_test_split(data , test_size = 0.2 , random_state=0)"
   ]
  },
  {
   "cell_type": "code",
   "execution_count": 25,
   "id": "83f109e9",
   "metadata": {},
   "outputs": [
    {
     "name": "stderr",
     "output_type": "stream",
     "text": [
      "/Users/ghaidaa/opt/anaconda3/lib/python3.8/site-packages/seaborn/_decorators.py:36: FutureWarning: Pass the following variables as keyword args: x, y. From version 0.12, the only valid positional argument will be `data`, and passing other arguments without an explicit keyword will result in an error or misinterpretation.\n",
      "  warnings.warn(\n"
     ]
    },
    {
     "data": {
      "image/png": "[encoded data removed]",
      "text/plain": [
       "<Figure size 432x288 with 1 Axes>"
      ]
     },
     "metadata": {
      "needs_background": "light"
     },
     "output_type": "display_data"
    }
   ],
   "source": [
    "months = 'jan,feb,mar,apr,may,jun,jul,aug,sep,oct,nov,dec'.split(',')\n",
    "ax = sns.barplot('month', 'total_count', data=df_trainEx, estimator=np.mean, ci=None)\n",
    "ax.set_ylabel('avaerage no. of bikes rented')\n",
    "ax.set_xlabel('month')\n",
    "ax.set_xticklabels(months)\n",
    "\n",
    "plt.title('bike rentals per month')\n",
    "\n",
    "plt.show()"
   ]
  },
  {
   "cell_type": "code",
   "execution_count": 26,
   "id": "b856124d",
   "metadata": {},
   "outputs": [
    {
     "name": "stderr",
     "output_type": "stream",
     "text": [
      "/Users/ghaidaa/opt/anaconda3/lib/python3.8/site-packages/seaborn/_decorators.py:36: FutureWarning: Pass the following variables as keyword args: x, y. From version 0.12, the only valid positional argument will be `data`, and passing other arguments without an explicit keyword will result in an error or misinterpretation.\n",
      "  warnings.warn(\n"
     ]
    },
    {
     "data": {
      "image/png": "[encoded data removed]",
      "text/plain": [
       "<Figure size 432x288 with 1 Axes>"
      ]
     },
     "metadata": {
      "needs_background": "light"
     },
     "output_type": "display_data"
    }
   ],
   "source": [
    "#season = 'Springer,Summer,Fall,Winter'.split(',')\n",
    "ax = sns.barplot('season', 'total_count', data=df_trainEx, estimator=np.mean, ci=None)\n",
    "ax.set_ylabel('avaerage no. of bikes rented')\n",
    "ax.set_xlabel('season')\n",
    "#ax.set_xticklabels(season)\n",
    "\n",
    "plt.title('bike rentals per season')\n",
    "\n",
    "plt.show()"
   ]
  },
  {
   "cell_type": "code",
   "execution_count": 27,
   "id": "b82210cb",
   "metadata": {},
   "outputs": [
    {
     "data": {
      "image/png": "[encoded data removed]",
      "text/plain": [
       "<Figure size 720x720 with 4 Axes>"
      ]
     },
     "metadata": {
      "needs_background": "light"
     },
     "output_type": "display_data"
    }
   ],
   "source": [
    "df_trainEx.temperature.unique()\n",
    "fig,axes=plt.subplots(2,2)\n",
    "axes[0,0].hist(x=\"temperature\",data=df_trainEx,edgecolor=\"black\",linewidth=2,color='#b49fb5')\n",
    "axes[0,0].set_title(\"Variation of temperature\")\n",
    "axes[0,1].hist(x=\"atemp\",data=df_trainEx,edgecolor=\"black\",linewidth=2,color='#8ab0d9')\n",
    "axes[0,1].set_title(\"Variation of atemp\")\n",
    "axes[1,0].hist(x=\"windspeed\",data=df_trainEx,edgecolor=\"black\",linewidth=2,color='#8ab0d9')\n",
    "axes[1,0].set_title(\"Variation of windspeed\")\n",
    "axes[1,1].hist(x=\"humidity\",data=df_trainEx,edgecolor=\"black\",linewidth=2,color='#b49fb5')\n",
    "axes[1,1].set_title(\"Variation of humidity\")\n",
    "fig.set_size_inches(10,10)"
   ]
  },
  {
   "cell_type": "code",
   "execution_count": 28,
   "id": "c1a23e6b",
   "metadata": {},
   "outputs": [
    {
     "data": {
      "text/html": [
       "<div>\n",
       "<style scoped>\n",
       "    .dataframe tbody tr th:only-of-type {\n",
       "        vertical-align: middle;\n",
       "    }\n",
       "\n",
       "    .dataframe tbody tr th {\n",
       "        vertical-align: top;\n",
       "    }\n",
       "\n",
       "    .dataframe thead th {\n",
       "        text-align: right;\n",
       "    }\n",
       "</style>\n",
       "<table border=\"1\" class=\"dataframe\">\n",
       "  <thead>\n",
       "    <tr style=\"text-align: right;\">\n",
       "      <th></th>\n",
       "      <th>rec_id</th>\n",
       "      <th>datetime</th>\n",
       "      <th>season</th>\n",
       "      <th>year</th>\n",
       "      <th>month</th>\n",
       "      <th>hr</th>\n",
       "      <th>is_holiday</th>\n",
       "      <th>weekday</th>\n",
       "      <th>is_workingday</th>\n",
       "      <th>weather</th>\n",
       "      <th>temperature</th>\n",
       "      <th>atemp</th>\n",
       "      <th>humidity</th>\n",
       "      <th>windspeed</th>\n",
       "      <th>casual</th>\n",
       "      <th>registered</th>\n",
       "      <th>total_count</th>\n",
       "    </tr>\n",
       "  </thead>\n",
       "  <tbody>\n",
       "    <tr>\n",
       "      <th>0</th>\n",
       "      <td>1</td>\n",
       "      <td>2011-01-01</td>\n",
       "      <td>Winter</td>\n",
       "      <td>2011</td>\n",
       "      <td>1</td>\n",
       "      <td>0</td>\n",
       "      <td>No</td>\n",
       "      <td>Sunday</td>\n",
       "      <td>No</td>\n",
       "      <td>Clear</td>\n",
       "      <td>0.24</td>\n",
       "      <td>0.2879</td>\n",
       "      <td>0.81</td>\n",
       "      <td>0.0</td>\n",
       "      <td>3</td>\n",
       "      <td>13</td>\n",
       "      <td>16</td>\n",
       "    </tr>\n",
       "    <tr>\n",
       "      <th>1</th>\n",
       "      <td>2</td>\n",
       "      <td>2011-01-01</td>\n",
       "      <td>Winter</td>\n",
       "      <td>2011</td>\n",
       "      <td>1</td>\n",
       "      <td>1</td>\n",
       "      <td>No</td>\n",
       "      <td>Sunday</td>\n",
       "      <td>No</td>\n",
       "      <td>Clear</td>\n",
       "      <td>0.22</td>\n",
       "      <td>0.2727</td>\n",
       "      <td>0.80</td>\n",
       "      <td>0.0</td>\n",
       "      <td>8</td>\n",
       "      <td>32</td>\n",
       "      <td>40</td>\n",
       "    </tr>\n",
       "    <tr>\n",
       "      <th>2</th>\n",
       "      <td>3</td>\n",
       "      <td>2011-01-01</td>\n",
       "      <td>Winter</td>\n",
       "      <td>2011</td>\n",
       "      <td>1</td>\n",
       "      <td>2</td>\n",
       "      <td>No</td>\n",
       "      <td>Sunday</td>\n",
       "      <td>No</td>\n",
       "      <td>Clear</td>\n",
       "      <td>0.22</td>\n",
       "      <td>0.2727</td>\n",
       "      <td>0.80</td>\n",
       "      <td>0.0</td>\n",
       "      <td>5</td>\n",
       "      <td>27</td>\n",
       "      <td>32</td>\n",
       "    </tr>\n",
       "    <tr>\n",
       "      <th>3</th>\n",
       "      <td>4</td>\n",
       "      <td>2011-01-01</td>\n",
       "      <td>Winter</td>\n",
       "      <td>2011</td>\n",
       "      <td>1</td>\n",
       "      <td>3</td>\n",
       "      <td>No</td>\n",
       "      <td>Sunday</td>\n",
       "      <td>No</td>\n",
       "      <td>Clear</td>\n",
       "      <td>0.24</td>\n",
       "      <td>0.2879</td>\n",
       "      <td>0.75</td>\n",
       "      <td>0.0</td>\n",
       "      <td>3</td>\n",
       "      <td>10</td>\n",
       "      <td>13</td>\n",
       "    </tr>\n",
       "    <tr>\n",
       "      <th>4</th>\n",
       "      <td>5</td>\n",
       "      <td>2011-01-01</td>\n",
       "      <td>Winter</td>\n",
       "      <td>2011</td>\n",
       "      <td>1</td>\n",
       "      <td>4</td>\n",
       "      <td>No</td>\n",
       "      <td>Sunday</td>\n",
       "      <td>No</td>\n",
       "      <td>Clear</td>\n",
       "      <td>0.24</td>\n",
       "      <td>0.2879</td>\n",
       "      <td>0.75</td>\n",
       "      <td>0.0</td>\n",
       "      <td>0</td>\n",
       "      <td>1</td>\n",
       "      <td>1</td>\n",
       "    </tr>\n",
       "  </tbody>\n",
       "</table>\n",
       "</div>"
      ],
      "text/plain": [
       "   rec_id    datetime  season  year  month  hr is_holiday weekday  \\\n",
       "0       1  2011-01-01  Winter  2011      1   0         No  Sunday   \n",
       "1       2  2011-01-01  Winter  2011      1   1         No  Sunday   \n",
       "2       3  2011-01-01  Winter  2011      1   2         No  Sunday   \n",
       "3       4  2011-01-01  Winter  2011      1   3         No  Sunday   \n",
       "4       5  2011-01-01  Winter  2011      1   4         No  Sunday   \n",
       "\n",
       "  is_workingday weather  temperature   atemp  humidity  windspeed  casual  \\\n",
       "0            No   Clear         0.24  0.2879      0.81        0.0       3   \n",
       "1            No   Clear         0.22  0.2727      0.80        0.0       8   \n",
       "2            No   Clear         0.22  0.2727      0.80        0.0       5   \n",
       "3            No   Clear         0.24  0.2879      0.75        0.0       3   \n",
       "4            No   Clear         0.24  0.2879      0.75        0.0       0   \n",
       "\n",
       "   registered  total_count  \n",
       "0          13           16  \n",
       "1          32           40  \n",
       "2          27           32  \n",
       "3          10           13  \n",
       "4           1            1  "
      ]
     },
     "execution_count": 28,
     "metadata": {},
     "output_type": "execute_result"
    }
   ],
   "source": [
    "df_trainEx.head()"
   ]
  },
  {
   "cell_type": "code",
   "execution_count": 29,
   "id": "3d0beccf",
   "metadata": {},
   "outputs": [
    {
     "data": {
      "image/png": "[encoded data removed]",
      "text/plain": [
       "<Figure size 1296x360 with 1 Axes>"
      ]
     },
     "metadata": {
      "needs_background": "light"
     },
     "output_type": "display_data"
    }
   ],
   "source": [
    "fig, ax = plt.subplots(figsize=(18, 5))\n",
    "#seasons = ['spring', 'summer', 'fall', 'winter']\n",
    "#ax.set_xticklabels(seasons)\n",
    "sns.pointplot(x=df_trainEx[\"hr\"], y=df_trainEx[\"total_count\"], hue=df_trainEx[\"season\"], ax=ax)\n",
    "ax.set(xlabel='Hour Of The Day', ylabel='Normal Weather Count', title=\"Normal Weather By Hour Of The Day Across Season\");"
   ]
  },
  {
   "cell_type": "code",
   "execution_count": 30,
   "id": "374c463c",
   "metadata": {},
   "outputs": [
    {
     "data": {
      "image/png": "[encoded data removed]",
      "text/plain": [
       "<Figure size 720x360 with 1 Axes>"
      ]
     },
     "metadata": {
      "needs_background": "light"
     },
     "output_type": "display_data"
    }
   ],
   "source": [
    "fig,ax=plt.subplots(figsize=(10,5))\n",
    "sns.set_style('white')\n",
    "sns.barplot(x='year',y='casual',data=df_trainEx,hue='season',ax=ax)\n",
    "Years = '2011,2012'.split(',')\n",
    "ax.set_xticklabels(Years)\n",
    "ax.set_title('Casual distribution for seasons yearly')\n",
    "plt.show()"
   ]
  },
  {
   "cell_type": "code",
   "execution_count": 31,
   "id": "f3628695",
   "metadata": {},
   "outputs": [
    {
     "data": {
      "image/png": "[encoded data removed]",
      "text/plain": [
       "<Figure size 720x360 with 1 Axes>"
      ]
     },
     "metadata": {},
     "output_type": "display_data"
    }
   ],
   "source": [
    "fig,ax=plt.subplots(figsize=(10,5))\n",
    "sns.barplot(x='weekday',y='total_count',data=df_trainEx,hue='weather',ax=ax)\n",
    "ax.set_title('weathersit weekly distribution of counts')\n",
    "plt.show()"
   ]
  },
  {
   "cell_type": "code",
   "execution_count": 32,
   "id": "b2459dfd",
   "metadata": {
    "scrolled": true
   },
   "outputs": [
    {
     "data": {
      "image/png": "[encoded data removed]",
      "text/plain": [
       "<Figure size 1080x720 with 2 Axes>"
      ]
     },
     "metadata": {},
     "output_type": "display_data"
    }
   ],
   "source": [
    "plt.subplots(figsize=(15,10))\n",
    "sns.heatmap(df_trainEx.corr(), annot=True, cmap='Blues');"
   ]
  },
  {
   "cell_type": "code",
   "execution_count": 33,
   "id": "3307b33f",
   "metadata": {
    "scrolled": true
   },
   "outputs": [
    {
     "data": {
      "image/png": "[encoded data removed]",
      "text/plain": [
       "<Figure size 360x432 with 1 Axes>"
      ]
     },
     "metadata": {},
     "output_type": "display_data"
    }
   ],
   "source": [
    "plt.figure(figsize=(5, 6))\n",
    "\n",
    "labels = 'Clear', 'Mist + Cloudy', 'Light Snow', 'Heavy Rain'\n",
    "sizes = df_trainEx.total_count.groupby(df_trainEx.weather).sum().tolist()\n",
    "colors = ['lightgreen', '#eeefff', 'skyblue', 'black']\n",
    "explode = (0.2, 0, 0, 0.5)\n",
    "\n",
    "plt.pie(sizes, explode=explode, labels=labels, colors=colors,\n",
    "        autopct='%1.1f%%', shadow=True, startangle=60)\n",
    "plt.axis('equal')\n",
    "plt.title('Bike usage based on weather')\n",
    "plt.show()"
   ]
  },
  {
   "cell_type": "code",
   "execution_count": null,
   "id": "63ce1b89",
   "metadata": {},
   "outputs": [],
   "source": []
  },
  {
   "cell_type": "code",
   "execution_count": 34,
   "id": "991a43dd",
   "metadata": {},
   "outputs": [],
   "source": [
    "#sns.pairplot(df_trainEx,hue='season',palette='coolwarm')"
   ]
  },
  {
   "cell_type": "code",
   "execution_count": 35,
   "id": "ef7751ac",
   "metadata": {},
   "outputs": [],
   "source": [
    "data=pd.read_csv(\"/Users/ghaidaa/Desktop/Bike-sharing/hour.csv\")"
   ]
  },
  {
   "cell_type": "code",
   "execution_count": 36,
   "id": "0c3199aa",
   "metadata": {},
   "outputs": [],
   "source": [
    "\n",
    "data = data.rename(columns = {'instant':'rec_id', 'dteday':'datetime','weathersit':'weather', 'cnt':'total_count', 'dteday':'datetime','mnth':'month','temp':'temperature','holiday':'is_holiday', 'workingday':'is_workingday','hum':'humidity','yr':'year'})\n",
    "\n",
    "\n"
   ]
  },
  {
   "cell_type": "code",
   "execution_count": 37,
   "id": "db37c092",
   "metadata": {},
   "outputs": [
    {
     "data": {
      "text/plain": [
       "rec_id           0\n",
       "datetime         0\n",
       "season           0\n",
       "year             0\n",
       "month            0\n",
       "hr               0\n",
       "is_holiday       0\n",
       "weekday          0\n",
       "is_workingday    0\n",
       "weather          0\n",
       "temperature      0\n",
       "atemp            0\n",
       "humidity         0\n",
       "windspeed        0\n",
       "casual           0\n",
       "registered       0\n",
       "total_count      0\n",
       "dtype: int64"
      ]
     },
     "execution_count": 37,
     "metadata": {},
     "output_type": "execute_result"
    }
   ],
   "source": [
    "data.isna().sum()"
   ]
  },
  {
   "cell_type": "code",
   "execution_count": 38,
   "id": "225da0fd",
   "metadata": {},
   "outputs": [
    {
     "data": {
      "text/plain": [
       "0"
      ]
     },
     "execution_count": 38,
     "metadata": {},
     "output_type": "execute_result"
    }
   ],
   "source": [
    "data.duplicated().sum()"
   ]
  },
  {
   "cell_type": "code",
   "execution_count": 39,
   "id": "abbe3b38",
   "metadata": {},
   "outputs": [],
   "source": [
    "data = pd.concat([data, pd.get_dummies(data['season'], prefix='season')],axis=1)"
   ]
  },
  {
   "cell_type": "code",
   "execution_count": 40,
   "id": "2ced8372",
   "metadata": {},
   "outputs": [],
   "source": [
    "data = data.drop([\"season\"],axis=1)\n",
    "\n"
   ]
  },
  {
   "cell_type": "code",
   "execution_count": 41,
   "id": "a19951ee",
   "metadata": {},
   "outputs": [
    {
     "data": {
      "text/plain": [
       "rec_id           0\n",
       "datetime         0\n",
       "year             0\n",
       "month            0\n",
       "hr               0\n",
       "is_holiday       0\n",
       "weekday          0\n",
       "is_workingday    0\n",
       "weather          0\n",
       "temperature      0\n",
       "atemp            0\n",
       "humidity         0\n",
       "windspeed        0\n",
       "casual           0\n",
       "registered       0\n",
       "total_count      0\n",
       "season_1         0\n",
       "season_2         0\n",
       "season_3         0\n",
       "season_4         0\n",
       "dtype: int64"
      ]
     },
     "execution_count": 41,
     "metadata": {},
     "output_type": "execute_result"
    }
   ],
   "source": [
    "data.isna().sum()"
   ]
  },
  {
   "cell_type": "code",
   "execution_count": 42,
   "id": "564f0dcd",
   "metadata": {},
   "outputs": [
    {
     "data": {
      "text/plain": [
       "(17379, 20)"
      ]
     },
     "execution_count": 42,
     "metadata": {},
     "output_type": "execute_result"
    }
   ],
   "source": [
    "data.shape\n"
   ]
  },
  {
   "cell_type": "code",
   "execution_count": 43,
   "id": "692c58ae",
   "metadata": {},
   "outputs": [
    {
     "data": {
      "image/png": "[encoded data removed]",
      "text/plain": [
       "<Figure size 432x288 with 1 Axes>"
      ]
     },
     "metadata": {},
     "output_type": "display_data"
    }
   ],
   "source": [
    "boxplot = data.boxplot(column=['humidity', 'temperature', 'atemp','windspeed'])"
   ]
  },
  {
   "cell_type": "code",
   "execution_count": 44,
   "id": "d2074f50",
   "metadata": {},
   "outputs": [
    {
     "data": {
      "text/html": [
       "<div>\n",
       "<style scoped>\n",
       "    .dataframe tbody tr th:only-of-type {\n",
       "        vertical-align: middle;\n",
       "    }\n",
       "\n",
       "    .dataframe tbody tr th {\n",
       "        vertical-align: top;\n",
       "    }\n",
       "\n",
       "    .dataframe thead th {\n",
       "        text-align: right;\n",
       "    }\n",
       "</style>\n",
       "<table border=\"1\" class=\"dataframe\">\n",
       "  <thead>\n",
       "    <tr style=\"text-align: right;\">\n",
       "      <th></th>\n",
       "      <th>rec_id</th>\n",
       "      <th>datetime</th>\n",
       "      <th>year</th>\n",
       "      <th>month</th>\n",
       "      <th>hr</th>\n",
       "      <th>is_holiday</th>\n",
       "      <th>weekday</th>\n",
       "      <th>is_workingday</th>\n",
       "      <th>weather</th>\n",
       "      <th>temperature</th>\n",
       "      <th>atemp</th>\n",
       "      <th>humidity</th>\n",
       "      <th>windspeed</th>\n",
       "      <th>casual</th>\n",
       "      <th>registered</th>\n",
       "      <th>total_count</th>\n",
       "      <th>season_1</th>\n",
       "      <th>season_2</th>\n",
       "      <th>season_3</th>\n",
       "      <th>season_4</th>\n",
       "    </tr>\n",
       "  </thead>\n",
       "  <tbody>\n",
       "    <tr>\n",
       "      <th>0</th>\n",
       "      <td>1</td>\n",
       "      <td>2011-01-01</td>\n",
       "      <td>0</td>\n",
       "      <td>1</td>\n",
       "      <td>0</td>\n",
       "      <td>0</td>\n",
       "      <td>6</td>\n",
       "      <td>0</td>\n",
       "      <td>1</td>\n",
       "      <td>0.24</td>\n",
       "      <td>0.2879</td>\n",
       "      <td>0.81</td>\n",
       "      <td>0.0</td>\n",
       "      <td>3</td>\n",
       "      <td>13</td>\n",
       "      <td>16</td>\n",
       "      <td>1</td>\n",
       "      <td>0</td>\n",
       "      <td>0</td>\n",
       "      <td>0</td>\n",
       "    </tr>\n",
       "    <tr>\n",
       "      <th>1</th>\n",
       "      <td>2</td>\n",
       "      <td>2011-01-01</td>\n",
       "      <td>0</td>\n",
       "      <td>1</td>\n",
       "      <td>1</td>\n",
       "      <td>0</td>\n",
       "      <td>6</td>\n",
       "      <td>0</td>\n",
       "      <td>1</td>\n",
       "      <td>0.22</td>\n",
       "      <td>0.2727</td>\n",
       "      <td>0.80</td>\n",
       "      <td>0.0</td>\n",
       "      <td>8</td>\n",
       "      <td>32</td>\n",
       "      <td>40</td>\n",
       "      <td>1</td>\n",
       "      <td>0</td>\n",
       "      <td>0</td>\n",
       "      <td>0</td>\n",
       "    </tr>\n",
       "    <tr>\n",
       "      <th>2</th>\n",
       "      <td>3</td>\n",
       "      <td>2011-01-01</td>\n",
       "      <td>0</td>\n",
       "      <td>1</td>\n",
       "      <td>2</td>\n",
       "      <td>0</td>\n",
       "      <td>6</td>\n",
       "      <td>0</td>\n",
       "      <td>1</td>\n",
       "      <td>0.22</td>\n",
       "      <td>0.2727</td>\n",
       "      <td>0.80</td>\n",
       "      <td>0.0</td>\n",
       "      <td>5</td>\n",
       "      <td>27</td>\n",
       "      <td>32</td>\n",
       "      <td>1</td>\n",
       "      <td>0</td>\n",
       "      <td>0</td>\n",
       "      <td>0</td>\n",
       "    </tr>\n",
       "    <tr>\n",
       "      <th>3</th>\n",
       "      <td>4</td>\n",
       "      <td>2011-01-01</td>\n",
       "      <td>0</td>\n",
       "      <td>1</td>\n",
       "      <td>3</td>\n",
       "      <td>0</td>\n",
       "      <td>6</td>\n",
       "      <td>0</td>\n",
       "      <td>1</td>\n",
       "      <td>0.24</td>\n",
       "      <td>0.2879</td>\n",
       "      <td>0.75</td>\n",
       "      <td>0.0</td>\n",
       "      <td>3</td>\n",
       "      <td>10</td>\n",
       "      <td>13</td>\n",
       "      <td>1</td>\n",
       "      <td>0</td>\n",
       "      <td>0</td>\n",
       "      <td>0</td>\n",
       "    </tr>\n",
       "    <tr>\n",
       "      <th>4</th>\n",
       "      <td>5</td>\n",
       "      <td>2011-01-01</td>\n",
       "      <td>0</td>\n",
       "      <td>1</td>\n",
       "      <td>4</td>\n",
       "      <td>0</td>\n",
       "      <td>6</td>\n",
       "      <td>0</td>\n",
       "      <td>1</td>\n",
       "      <td>0.24</td>\n",
       "      <td>0.2879</td>\n",
       "      <td>0.75</td>\n",
       "      <td>0.0</td>\n",
       "      <td>0</td>\n",
       "      <td>1</td>\n",
       "      <td>1</td>\n",
       "      <td>1</td>\n",
       "      <td>0</td>\n",
       "      <td>0</td>\n",
       "      <td>0</td>\n",
       "    </tr>\n",
       "  </tbody>\n",
       "</table>\n",
       "</div>"
      ],
      "text/plain": [
       "   rec_id    datetime  year  month  hr  is_holiday  weekday  is_workingday  \\\n",
       "0       1  2011-01-01     0      1   0           0        6              0   \n",
       "1       2  2011-01-01     0      1   1           0        6              0   \n",
       "2       3  2011-01-01     0      1   2           0        6              0   \n",
       "3       4  2011-01-01     0      1   3           0        6              0   \n",
       "4       5  2011-01-01     0      1   4           0        6              0   \n",
       "\n",
       "   weather  temperature   atemp  humidity  windspeed  casual  registered  \\\n",
       "0        1         0.24  0.2879      0.81        0.0       3          13   \n",
       "1        1         0.22  0.2727      0.80        0.0       8          32   \n",
       "2        1         0.22  0.2727      0.80        0.0       5          27   \n",
       "3        1         0.24  0.2879      0.75        0.0       3          10   \n",
       "4        1         0.24  0.2879      0.75        0.0       0           1   \n",
       "\n",
       "   total_count  season_1  season_2  season_3  season_4  \n",
       "0           16         1         0         0         0  \n",
       "1           40         1         0         0         0  \n",
       "2           32         1         0         0         0  \n",
       "3           13         1         0         0         0  \n",
       "4            1         1         0         0         0  "
      ]
     },
     "execution_count": 44,
     "metadata": {},
     "output_type": "execute_result"
    }
   ],
   "source": [
    "data.head()"
   ]
  },
  {
   "cell_type": "code",
   "execution_count": 45,
   "id": "27caa48b",
   "metadata": {},
   "outputs": [
    {
     "data": {
      "text/plain": [
       "Index(['rec_id', 'datetime', 'year', 'month', 'hr', 'is_holiday', 'weekday',\n",
       "       'is_workingday', 'weather', 'temperature', 'atemp', 'humidity',\n",
       "       'windspeed', 'casual', 'registered', 'total_count', 'season_1',\n",
       "       'season_2', 'season_3', 'season_4'],\n",
       "      dtype='object')"
      ]
     },
     "execution_count": 45,
     "metadata": {},
     "output_type": "execute_result"
    }
   ],
   "source": [
    "data.columns"
   ]
  },
  {
   "cell_type": "code",
   "execution_count": 46,
   "id": "45999791",
   "metadata": {},
   "outputs": [],
   "source": [
    "\n",
    "data=data.drop(['rec_id','datetime','casual','datetime'], axis=1)\n"
   ]
  },
  {
   "cell_type": "code",
   "execution_count": 47,
   "id": "aa73b8f3",
   "metadata": {},
   "outputs": [
    {
     "data": {
      "text/plain": [
       "year             0\n",
       "month            0\n",
       "hr               0\n",
       "is_holiday       0\n",
       "weekday          0\n",
       "is_workingday    0\n",
       "weather          0\n",
       "temperature      0\n",
       "atemp            0\n",
       "humidity         0\n",
       "windspeed        0\n",
       "registered       0\n",
       "total_count      0\n",
       "season_1         0\n",
       "season_2         0\n",
       "season_3         0\n",
       "season_4         0\n",
       "dtype: int64"
      ]
     },
     "execution_count": 47,
     "metadata": {},
     "output_type": "execute_result"
    }
   ],
   "source": [
    "data.isna().sum()"
   ]
  },
  {
   "cell_type": "code",
   "execution_count": 48,
   "id": "ecb09b04",
   "metadata": {},
   "outputs": [
    {
     "name": "stdout",
     "output_type": "stream",
     "text": [
      "Training Data has (11122, 14)\n",
      "Validation Data has (2781, 14)\n"
     ]
    }
   ],
   "source": [
    "#X_train, X_test, y_train, y_test = train_test_split(data[['year', 'month', 'hr', 'is_holiday', 'weekday',\n",
    "      # 'is_workingday', 'weather', 'temperature', 'atemp', 'humidity', 'windspeed','registered','season_1',\n",
    "     #  'season_2', 'season_3', 'season_4']], data[['total_count']], test_size=0.2, random_state=42)\n",
    "X_train, X_test, y_train, y_test = train_test_split(data[[ 'month', 'hr', 'is_holiday', 'weekday',\n",
    "       'is_workingday', 'weather', 'temperature', 'atemp', 'humidity', 'windspeed','season_1',\n",
    "       'season_2', 'season_3', 'season_4']], data[['total_count']], test_size=0.2, random_state=42)\n",
    "X_train, X_val, y_train, y_val = train_test_split(X_train, y_train, test_size=0.2, random_state=42)\n",
    "\n",
    "\n",
    "#X_train_val, X_test, y_train_val, y_test = train_test_split(X, y, test_size=0.2,random_state=42)\n",
    "#X_train, X_val, y_train, y_val = train_test_split(X_train_val, y_train_val, test_size=.25, random_state=43)\n",
    "\n",
    "\n",
    "\n",
    "print(\"Training Data has\",X_train.shape)\n",
    "print(\"Validation Data has\",X_val.shape)"
   ]
  },
  {
   "cell_type": "code",
   "execution_count": 49,
   "id": "5a3f8f31",
   "metadata": {},
   "outputs": [],
   "source": [
    "from sklearn.pipeline import make_pipeline\n",
    "\n",
    "from sklearn.preprocessing import StandardScaler\n",
    "\n"
   ]
  },
  {
   "cell_type": "code",
   "execution_count": 50,
   "id": "7054b354",
   "metadata": {},
   "outputs": [
    {
     "name": "stdout",
     "output_type": "stream",
     "text": [
      "<class 'pandas.core.frame.DataFrame'>\n",
      "Int64Index: 11122 entries, 504 to 10046\n",
      "Data columns (total 14 columns):\n",
      " #   Column         Non-Null Count  Dtype  \n",
      "---  ------         --------------  -----  \n",
      " 0   month          11122 non-null  int64  \n",
      " 1   hr             11122 non-null  int64  \n",
      " 2   is_holiday     11122 non-null  int64  \n",
      " 3   weekday        11122 non-null  int64  \n",
      " 4   is_workingday  11122 non-null  int64  \n",
      " 5   weather        11122 non-null  int64  \n",
      " 6   temperature    11122 non-null  float64\n",
      " 7   atemp          11122 non-null  float64\n",
      " 8   humidity       11122 non-null  float64\n",
      " 9   windspeed      11122 non-null  float64\n",
      " 10  season_1       11122 non-null  uint8  \n",
      " 11  season_2       11122 non-null  uint8  \n",
      " 12  season_3       11122 non-null  uint8  \n",
      " 13  season_4       11122 non-null  uint8  \n",
      "dtypes: float64(4), int64(6), uint8(4)\n",
      "memory usage: 999.2 KB\n"
     ]
    }
   ],
   "source": [
    "X_train.info()"
   ]
  },
  {
   "cell_type": "code",
   "execution_count": 51,
   "id": "6db5de60",
   "metadata": {},
   "outputs": [
    {
     "ename": "NameError",
     "evalue": "name 'scaler' is not defined",
     "output_type": "error",
     "traceback": [
      "\u001b[0;31m---------------------------------------------------------------------------\u001b[0m",
      "\u001b[0;31mNameError\u001b[0m                                 Traceback (most recent call last)",
      "\u001b[0;32m<ipython-input-51-8e6c1219b4a1>\u001b[0m in \u001b[0;36m<module>\u001b[0;34m\u001b[0m\n\u001b[1;32m      1\u001b[0m \u001b[0;31m# scaling the features\u001b[0m\u001b[0;34m\u001b[0m\u001b[0;34m\u001b[0m\u001b[0;34m\u001b[0m\u001b[0m\n\u001b[0;32m----> 2\u001b[0;31m \u001b[0mx_train_scaled\u001b[0m \u001b[0;34m=\u001b[0m \u001b[0mscaler\u001b[0m\u001b[0;34m.\u001b[0m\u001b[0mfit_transform\u001b[0m\u001b[0;34m(\u001b[0m\u001b[0mX_train\u001b[0m\u001b[0;34m)\u001b[0m\u001b[0;34m\u001b[0m\u001b[0;34m\u001b[0m\u001b[0m\n\u001b[0m\u001b[1;32m      3\u001b[0m \u001b[0mx_train\u001b[0m \u001b[0;34m=\u001b[0m \u001b[0mpd\u001b[0m\u001b[0;34m.\u001b[0m\u001b[0mDataFrame\u001b[0m\u001b[0;34m(\u001b[0m\u001b[0mx_train_scaled\u001b[0m\u001b[0;34m)\u001b[0m\u001b[0;34m\u001b[0m\u001b[0;34m\u001b[0m\u001b[0m\n\u001b[1;32m      4\u001b[0m \u001b[0mx_test_scaled\u001b[0m \u001b[0;34m=\u001b[0m \u001b[0mscaler\u001b[0m\u001b[0;34m.\u001b[0m\u001b[0mtransform\u001b[0m\u001b[0;34m(\u001b[0m\u001b[0mx_test\u001b[0m\u001b[0;34m)\u001b[0m\u001b[0;34m\u001b[0m\u001b[0;34m\u001b[0m\u001b[0m\n\u001b[1;32m      5\u001b[0m \u001b[0mx_test\u001b[0m \u001b[0;34m=\u001b[0m \u001b[0mpd\u001b[0m\u001b[0;34m.\u001b[0m\u001b[0mDataFrame\u001b[0m\u001b[0;34m(\u001b[0m\u001b[0mx_test_scaled\u001b[0m\u001b[0;34m)\u001b[0m\u001b[0;34m\u001b[0m\u001b[0;34m\u001b[0m\u001b[0m\n",
      "\u001b[0;31mNameError\u001b[0m: name 'scaler' is not defined"
     ]
    }
   ],
   "source": [
    "# scaling the features\n",
    "x_train_scaled = scaler.fit_transform(X_train)\n",
    "x_train = pd.DataFrame(x_train_scaled)\n",
    "x_test_scaled = scaler.transform(x_test)\n",
    "x_test = pd.DataFrame(x_test_scaled)"
   ]
  },
  {
   "cell_type": "code",
   "execution_count": null,
   "id": "5a50d1f3",
   "metadata": {},
   "outputs": [],
   "source": [
    "X_train.head()"
   ]
  },
  {
   "cell_type": "code",
   "execution_count": null,
   "id": "c523c3f9",
   "metadata": {},
   "outputs": [],
   "source": [
    "X_test.head()"
   ]
  },
  {
   "cell_type": "code",
   "execution_count": null,
   "id": "35e206c1",
   "metadata": {},
   "outputs": [],
   "source": [
    "lr=LinearRegression()\n",
    "lr.fit(X_train,y_train)"
   ]
  },
  {
   "cell_type": "code",
   "execution_count": null,
   "id": "b71e028b",
   "metadata": {},
   "outputs": [],
   "source": [
    "\n",
    "val = KFold(n_splits = 5)\n",
    "cv_res = cross_val_score(lr,X_train,y_train,cv = val ,scoring = 'r2')\n",
    "\n",
    "print('The R square: ',cv_res.mean())\n",
    "y_pred=lr.predict(X_val)\n",
    "\n",
    "score = r2_score(y_val,y_pred)\n",
    "mse = mean_squared_error(y_pred,y_val)\n",
    "\n",
    "print(\"Testing accuracy: \",score)\n",
    "print('Mean Squared Error: ',mse)"
   ]
  },
  {
   "cell_type": "code",
   "execution_count": null,
   "id": "54c36685",
   "metadata": {},
   "outputs": [],
   "source": [
    "selected_columns = ['year', 'month', 'hr', 'is_holiday', 'weekday',\n",
    "      'is_workingday', 'weather', 'temperature', 'atemp', 'humidity', 'windspeed','registered','season_1',\n",
    "       'season_2', 'season_3', 'season_4']"
   ]
  },
  {
   "cell_type": "code",
   "execution_count": null,
   "id": "e3c18e58",
   "metadata": {},
   "outputs": [],
   "source": [
    "list(zip(selected_columns, lr.coef_.squeeze()))"
   ]
  },
  {
   "cell_type": "code",
   "execution_count": null,
   "id": "b760e189",
   "metadata": {},
   "outputs": [],
   "source": [
    "X_train.describe()"
   ]
  },
  {
   "cell_type": "code",
   "execution_count": null,
   "id": "44f94aeb",
   "metadata": {},
   "outputs": [],
   "source": []
  },
  {
   "cell_type": "code",
   "execution_count": null,
   "id": "58925dab",
   "metadata": {},
   "outputs": [],
   "source": []
  },
  {
   "cell_type": "code",
   "execution_count": null,
   "id": "aace1437",
   "metadata": {},
   "outputs": [],
   "source": []
  }
 ],
 "metadata": {
  "kernelspec": {
   "display_name": "Python 3",
   "language": "python",
   "name": "python3"
  },
  "language_info": {
   "codemirror_mode": {
    "name": "ipython",
    "version": 3
   },
   "file_extension": ".py",
   "mimetype": "text/x-python",
   "name": "python",
   "nbconvert_exporter": "python",
   "pygments_lexer": "ipython3",
   "version": "3.8.8"
  }
 },
 "nbformat": 4,
 "nbformat_minor": 5
}
